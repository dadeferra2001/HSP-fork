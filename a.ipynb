{
 "cells": [
  {
   "cell_type": "code",
   "execution_count": 9,
   "metadata": {},
   "outputs": [
    {
     "name": "stdout",
     "output_type": "stream",
     "text": [
      "ORIGINAL DATAFRAME CLASS DISTRIBUTION\n",
      "labels\n",
      "2    53651\n",
      "0    49456\n",
      "1    32449\n",
      "Name: count, dtype: int64\n",
      "\n",
      "TEST DATAFRAME CLASS DISTRIBUTION\n",
      "labels\n",
      "2    5311\n",
      "0    4974\n",
      "1    3271\n",
      "Name: count, dtype: int64\n",
      "\n",
      "DF1 DATAFRAME CLASS DISTRIBUTION\n",
      "labels\n",
      "2    16119\n",
      "0    14944\n",
      "1     9604\n",
      "Name: count, dtype: int64\n",
      "\n",
      "DF2 DATAFRAME CLASS DISTRIBUTION\n",
      "labels\n",
      "2    16057\n",
      "0    14755\n",
      "1     9855\n",
      "Name: count, dtype: int64\n",
      "\n",
      "DF3 DATAFRAME CLASS DISTRIBUTION\n",
      "labels\n",
      "2    16164\n",
      "0    14783\n",
      "1     9719\n",
      "Name: count, dtype: int64\n"
     ]
    },
    {
     "name": "stderr",
     "output_type": "stream",
     "text": [
      "C:\\Users\\fdavi\\AppData\\Local\\Packages\\PythonSoftwareFoundation.Python.3.12_qbz5n2kfra8p0\\LocalCache\\local-packages\\Python312\\site-packages\\numpy\\core\\fromnumeric.py:59: FutureWarning: 'DataFrame.swapaxes' is deprecated and will be removed in a future version. Please use 'DataFrame.transpose' instead.\n",
      "  return bound(*args, **kwds)\n"
     ]
    }
   ],
   "source": [
    "import pandas\n",
    "from sklearn.model_selection import train_test_split\n",
    "import numpy\n",
    "\n",
    "df = pandas.read_csv('DS1.csv')\n",
    "print(\"ORIGINAL DATAFRAME CLASS DISTRIBUTION\")\n",
    "print(df['labels'].value_counts())\n",
    "df, df_test = train_test_split(df, test_size=0.1)\n",
    "print(\"\")\n",
    "print(\"TEST DATAFRAME CLASS DISTRIBUTION\")\n",
    "print(df_test['labels'].value_counts())\n",
    "\n",
    "df1, df2, df3 = numpy.array_split(df, 3)\n",
    "print(\"\")\n",
    "print(\"DF1 DATAFRAME CLASS DISTRIBUTION\")\n",
    "print(df1['labels'].value_counts())\n",
    "print(\"\")\n",
    "print(\"DF2 DATAFRAME CLASS DISTRIBUTION\")\n",
    "print(df2['labels'].value_counts())\n",
    "print(\"\")\n",
    "print(\"DF3 DATAFRAME CLASS DISTRIBUTION\")\n",
    "print(df3['labels'].value_counts())\n",
    "\n",
    "df1.to_csv('dataset1.csv', index=False)\n",
    "df2.to_csv('dataset2.csv', index=False)\n",
    "df3.to_csv('dataset3.csv', index=False)\n",
    "df_test.to_csv('dataset_test.csv', index=False)"
   ]
  },
  {
   "cell_type": "code",
   "execution_count": null,
   "metadata": {},
   "outputs": [],
   "source": []
  }
 ],
 "metadata": {
  "kernelspec": {
   "display_name": "Python 3",
   "language": "python",
   "name": "python3"
  },
  "language_info": {
   "codemirror_mode": {
    "name": "ipython",
    "version": 3
   },
   "file_extension": ".py",
   "mimetype": "text/x-python",
   "name": "python",
   "nbconvert_exporter": "python",
   "pygments_lexer": "ipython3",
   "version": "3.12.3"
  }
 },
 "nbformat": 4,
 "nbformat_minor": 2
}
