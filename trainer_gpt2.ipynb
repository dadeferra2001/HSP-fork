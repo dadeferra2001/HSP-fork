{
 "cells": [
  {
   "cell_type": "code",
   "execution_count": null,
   "metadata": {},
   "outputs": [],
   "source": [
    "from functions import get_dataset, get_model, get_tokenized_datasets, train\n",
    "\n",
    "dataframe_gpt2 = get_dataset('dataset1.csv')\n",
    "model_gpt2, tokenizer_gpt2 = get_model('openai-community/gpt2')\n",
    "train_encoded, val_encoded = get_tokenized_datasets(dataframe_gpt2, tokenizer_gpt2, 0.2)\n",
    "trainer = train('gpt2', model_gpt2, tokenizer_gpt2, 8, 5, train_encoded, val_encoded)\n",
    "trainer.save_model(\"./gpt2-saved\")\n",
    "result = trainer.evaluate()\n",
    "print(\"GPT2 Accuracy:\", result['eval_accuracy'])\n"
   ]
  }
 ],
 "metadata": {
  "kernelspec": {
   "display_name": "Python 3 (ipykernel)",
   "language": "python",
   "name": "python3"
  },
  "language_info": {
   "codemirror_mode": {
    "name": "ipython",
    "version": 3
   },
   "file_extension": ".py",
   "mimetype": "text/x-python",
   "name": "python",
   "nbconvert_exporter": "python",
   "pygments_lexer": "ipython3",
   "version": "3.12.3"
  }
 },
 "nbformat": 4,
 "nbformat_minor": 4
}
