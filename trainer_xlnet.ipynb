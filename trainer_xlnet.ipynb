{
 "cells": [
  {
   "cell_type": "code",
   "execution_count": null,
   "metadata": {},
   "outputs": [],
   "source": [
    "from functions import get_dataset, get_model, get_tokenized_datasets, train\n",
    "\n",
    "dataframe_xlnet = get_dataset('dataset3.csv')\n",
    "model_xlnet, tokenizer_xlnet = get_model('xlnet/xlnet-base-cased')\n",
    "train_encoded, val_encoded = get_tokenized_datasets(dataframe_xlnet, tokenizer_xlnet, 0.2)\n",
    "trainer = train('xlnet', model_xlnet, tokenizer_xlnet, 8, 5, train_encoded, val_encoded)\n",
    "trainer.save_model(\"./xlnet-saved\")\n",
    "result = trainer.evaluate()\n",
    "print(\"XLNet Accuracy:\", result['eval_accuracy'])\n"
   ]
  }
 ],
 "metadata": {
  "kernelspec": {
   "display_name": "Python 3 (ipykernel)",
   "language": "python",
   "name": "python3"
  },
  "language_info": {
   "codemirror_mode": {
    "name": "ipython",
    "version": 3
   },
   "file_extension": ".py",
   "mimetype": "text/x-python",
   "name": "python",
   "nbconvert_exporter": "python",
   "pygments_lexer": "ipython3",
   "version": "3.12.3"
  }
 },
 "nbformat": 4,
 "nbformat_minor": 4
}
